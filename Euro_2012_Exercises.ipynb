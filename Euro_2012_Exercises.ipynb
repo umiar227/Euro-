{
  "nbformat": 4,
  "nbformat_minor": 0,
  "metadata": {
    "anaconda-cloud": {},
    "kernelspec": {
      "display_name": "Python 3",
      "language": "python",
      "name": "python3"
    },
    "language_info": {
      "codemirror_mode": {
        "name": "ipython",
        "version": 3
      },
      "file_extension": ".py",
      "mimetype": "text/x-python",
      "name": "python",
      "nbconvert_exporter": "python",
      "pygments_lexer": "ipython3",
      "version": "3.7.3"
    },
    "colab": {
      "name": "Euro-2012 Exercises.ipynb",
      "provenance": []
    }
  },
  "cells": [
    {
      "cell_type": "markdown",
      "metadata": {
        "id": "-g5SM1gGSkgV",
        "colab_type": "text"
      },
      "source": [
        "\n",
        "\n",
        "### Step 1. Import the necessary libraries"
      ]
    },
    {
      "cell_type": "code",
      "metadata": {
        "id": "ZGsJxh7LSkgZ",
        "colab_type": "code",
        "colab": {}
      },
      "source": [
        "import numpy as np\n",
        "import pandas as pd\n",
        "import statistics"
      ],
      "execution_count": 0,
      "outputs": []
    },
    {
      "cell_type": "markdown",
      "metadata": {
        "id": "KEeFZk1xSkgf",
        "colab_type": "text"
      },
      "source": [
        "### Step 2. Import the dataset Euro_2012_stats_TEAM"
      ]
    },
    {
      "cell_type": "markdown",
      "metadata": {
        "id": "SJAyKsF9Skgg",
        "colab_type": "text"
      },
      "source": [
        "### Step 3. Assign it to a variable called euro12."
      ]
    },
    {
      "cell_type": "code",
      "metadata": {
        "id": "Rgby1QEzSkgi",
        "colab_type": "code",
        "colab": {}
      },
      "source": [
        "Euro12=pd.read_csv('Euro_2012_stats_TEAM.csv')"
      ],
      "execution_count": 0,
      "outputs": []
    },
    {
      "cell_type": "markdown",
      "metadata": {
        "id": "VMVhJAyWSkgm",
        "colab_type": "text"
      },
      "source": [
        "### Step 4. Select only the Goal column."
      ]
    },
    {
      "cell_type": "code",
      "metadata": {
        "id": "n3N-UR00Skgn",
        "colab_type": "code",
        "colab": {}
      },
      "source": [
        "Goal=euro12['Goals']\n"
      ],
      "execution_count": 0,
      "outputs": []
    },
    {
      "cell_type": "markdown",
      "metadata": {
        "id": "XUkP0_URSkgs",
        "colab_type": "text"
      },
      "source": [
        "### Step 5. How many team participated in the Euro2012?"
      ]
    },
    {
      "cell_type": "code",
      "metadata": {
        "id": "jPj_FChCSkgt",
        "colab_type": "code",
        "outputId": "2c656eb6-fe91-4ff2-9b02-f88a203a49f5",
        "colab": {}
      },
      "source": [
        "Team=euro12['Team']\n",
        "len(Team)\n"
      ],
      "execution_count": 0,
      "outputs": [
        {
          "output_type": "execute_result",
          "data": {
            "text/plain": [
              "16"
            ]
          },
          "metadata": {
            "tags": []
          },
          "execution_count": 35
        }
      ]
    },
    {
      "cell_type": "markdown",
      "metadata": {
        "id": "9m4W8k44Skgz",
        "colab_type": "text"
      },
      "source": [
        "### Step 6. What is the number of columns in the dataset?"
      ]
    },
    {
      "cell_type": "code",
      "metadata": {
        "id": "nUBkweGtSkg1",
        "colab_type": "code",
        "outputId": "3dcddb26-7bb0-4088-ed07-e150bbe45d36",
        "colab": {}
      },
      "source": [
        "len(Euro12.columns)"
      ],
      "execution_count": 0,
      "outputs": [
        {
          "output_type": "execute_result",
          "data": {
            "text/plain": [
              "35"
            ]
          },
          "metadata": {
            "tags": []
          },
          "execution_count": 36
        }
      ]
    },
    {
      "cell_type": "markdown",
      "metadata": {
        "id": "AuO9wI8ESkg5",
        "colab_type": "text"
      },
      "source": [
        "### Step 7. View only the columns Team, Yellow Cards and Red Cards and assign them to a dataframe called discipline"
      ]
    },
    {
      "cell_type": "code",
      "metadata": {
        "id": "wkAVQxX2Skg7",
        "colab_type": "code",
        "outputId": "0aee96a8-08d2-407f-9378-f1edec3cc806",
        "colab": {}
      },
      "source": [
        "Sel_col=Euro12.loc[:,['Team','Yellow Cards','Red Cards']]\n",
        "d_frame=pd.DataFrame(Sel_col)\n",
        "d_frame"
      ],
      "execution_count": 0,
      "outputs": [
        {
          "output_type": "execute_result",
          "data": {
            "text/html": [
              "<div>\n",
              "<style scoped>\n",
              "    .dataframe tbody tr th:only-of-type {\n",
              "        vertical-align: middle;\n",
              "    }\n",
              "\n",
              "    .dataframe tbody tr th {\n",
              "        vertical-align: top;\n",
              "    }\n",
              "\n",
              "    .dataframe thead th {\n",
              "        text-align: right;\n",
              "    }\n",
              "</style>\n",
              "<table border=\"1\" class=\"dataframe\">\n",
              "  <thead>\n",
              "    <tr style=\"text-align: right;\">\n",
              "      <th></th>\n",
              "      <th>Team</th>\n",
              "      <th>Yellow Cards</th>\n",
              "      <th>Red Cards</th>\n",
              "    </tr>\n",
              "  </thead>\n",
              "  <tbody>\n",
              "    <tr>\n",
              "      <th>0</th>\n",
              "      <td>Croatia</td>\n",
              "      <td>9</td>\n",
              "      <td>0</td>\n",
              "    </tr>\n",
              "    <tr>\n",
              "      <th>1</th>\n",
              "      <td>Czech Republic</td>\n",
              "      <td>7</td>\n",
              "      <td>0</td>\n",
              "    </tr>\n",
              "    <tr>\n",
              "      <th>2</th>\n",
              "      <td>Denmark</td>\n",
              "      <td>4</td>\n",
              "      <td>0</td>\n",
              "    </tr>\n",
              "    <tr>\n",
              "      <th>3</th>\n",
              "      <td>England</td>\n",
              "      <td>5</td>\n",
              "      <td>0</td>\n",
              "    </tr>\n",
              "    <tr>\n",
              "      <th>4</th>\n",
              "      <td>France</td>\n",
              "      <td>6</td>\n",
              "      <td>0</td>\n",
              "    </tr>\n",
              "    <tr>\n",
              "      <th>5</th>\n",
              "      <td>Germany</td>\n",
              "      <td>4</td>\n",
              "      <td>0</td>\n",
              "    </tr>\n",
              "    <tr>\n",
              "      <th>6</th>\n",
              "      <td>Greece</td>\n",
              "      <td>9</td>\n",
              "      <td>1</td>\n",
              "    </tr>\n",
              "    <tr>\n",
              "      <th>7</th>\n",
              "      <td>Italy</td>\n",
              "      <td>16</td>\n",
              "      <td>0</td>\n",
              "    </tr>\n",
              "    <tr>\n",
              "      <th>8</th>\n",
              "      <td>Netherlands</td>\n",
              "      <td>5</td>\n",
              "      <td>0</td>\n",
              "    </tr>\n",
              "    <tr>\n",
              "      <th>9</th>\n",
              "      <td>Poland</td>\n",
              "      <td>7</td>\n",
              "      <td>1</td>\n",
              "    </tr>\n",
              "    <tr>\n",
              "      <th>10</th>\n",
              "      <td>Portugal</td>\n",
              "      <td>12</td>\n",
              "      <td>0</td>\n",
              "    </tr>\n",
              "    <tr>\n",
              "      <th>11</th>\n",
              "      <td>Republic of Ireland</td>\n",
              "      <td>6</td>\n",
              "      <td>1</td>\n",
              "    </tr>\n",
              "    <tr>\n",
              "      <th>12</th>\n",
              "      <td>Russia</td>\n",
              "      <td>6</td>\n",
              "      <td>0</td>\n",
              "    </tr>\n",
              "    <tr>\n",
              "      <th>13</th>\n",
              "      <td>Spain</td>\n",
              "      <td>11</td>\n",
              "      <td>0</td>\n",
              "    </tr>\n",
              "    <tr>\n",
              "      <th>14</th>\n",
              "      <td>Sweden</td>\n",
              "      <td>7</td>\n",
              "      <td>0</td>\n",
              "    </tr>\n",
              "    <tr>\n",
              "      <th>15</th>\n",
              "      <td>Ukraine</td>\n",
              "      <td>5</td>\n",
              "      <td>0</td>\n",
              "    </tr>\n",
              "  </tbody>\n",
              "</table>\n",
              "</div>"
            ],
            "text/plain": [
              "                   Team  Yellow Cards  Red Cards\n",
              "0               Croatia             9          0\n",
              "1        Czech Republic             7          0\n",
              "2               Denmark             4          0\n",
              "3               England             5          0\n",
              "4                France             6          0\n",
              "5               Germany             4          0\n",
              "6                Greece             9          1\n",
              "7                 Italy            16          0\n",
              "8           Netherlands             5          0\n",
              "9                Poland             7          1\n",
              "10             Portugal            12          0\n",
              "11  Republic of Ireland             6          1\n",
              "12               Russia             6          0\n",
              "13                Spain            11          0\n",
              "14               Sweden             7          0\n",
              "15              Ukraine             5          0"
            ]
          },
          "metadata": {
            "tags": []
          },
          "execution_count": 16
        }
      ]
    },
    {
      "cell_type": "markdown",
      "metadata": {
        "id": "bHy6ejb_Skg_",
        "colab_type": "text"
      },
      "source": [
        "### Step 8. Sort the teams by Red Cards, then to Yellow Cards"
      ]
    },
    {
      "cell_type": "code",
      "metadata": {
        "scrolled": true,
        "id": "Qk5hcFQLSkhA",
        "colab_type": "code",
        "outputId": "ad59e0c3-e1eb-4608-8c6f-b314c5b3d579",
        "colab": {}
      },
      "source": [
        "Red=input('1 for Red Color or 0')\n",
        "\n",
        "Sel_col=Euro12.loc[:,'Team']\n",
        "d_frame=pd.DataFrame(Sel_col)\n",
        "\n",
        "Sets= Euro12['Red Cards'] == int(Red)\n",
        "\n",
        "d_frame[Sets]"
      ],
      "execution_count": 0,
      "outputs": [
        {
          "output_type": "stream",
          "text": [
            "1 for Red Color or 00\n"
          ],
          "name": "stdout"
        },
        {
          "output_type": "execute_result",
          "data": {
            "text/html": [
              "<div>\n",
              "<style scoped>\n",
              "    .dataframe tbody tr th:only-of-type {\n",
              "        vertical-align: middle;\n",
              "    }\n",
              "\n",
              "    .dataframe tbody tr th {\n",
              "        vertical-align: top;\n",
              "    }\n",
              "\n",
              "    .dataframe thead th {\n",
              "        text-align: right;\n",
              "    }\n",
              "</style>\n",
              "<table border=\"1\" class=\"dataframe\">\n",
              "  <thead>\n",
              "    <tr style=\"text-align: right;\">\n",
              "      <th></th>\n",
              "      <th>Team</th>\n",
              "    </tr>\n",
              "  </thead>\n",
              "  <tbody>\n",
              "    <tr>\n",
              "      <th>0</th>\n",
              "      <td>Croatia</td>\n",
              "    </tr>\n",
              "    <tr>\n",
              "      <th>1</th>\n",
              "      <td>Czech Republic</td>\n",
              "    </tr>\n",
              "    <tr>\n",
              "      <th>2</th>\n",
              "      <td>Denmark</td>\n",
              "    </tr>\n",
              "    <tr>\n",
              "      <th>3</th>\n",
              "      <td>England</td>\n",
              "    </tr>\n",
              "    <tr>\n",
              "      <th>4</th>\n",
              "      <td>France</td>\n",
              "    </tr>\n",
              "    <tr>\n",
              "      <th>5</th>\n",
              "      <td>Germany</td>\n",
              "    </tr>\n",
              "    <tr>\n",
              "      <th>7</th>\n",
              "      <td>Italy</td>\n",
              "    </tr>\n",
              "    <tr>\n",
              "      <th>8</th>\n",
              "      <td>Netherlands</td>\n",
              "    </tr>\n",
              "    <tr>\n",
              "      <th>10</th>\n",
              "      <td>Portugal</td>\n",
              "    </tr>\n",
              "    <tr>\n",
              "      <th>12</th>\n",
              "      <td>Russia</td>\n",
              "    </tr>\n",
              "    <tr>\n",
              "      <th>13</th>\n",
              "      <td>Spain</td>\n",
              "    </tr>\n",
              "    <tr>\n",
              "      <th>14</th>\n",
              "      <td>Sweden</td>\n",
              "    </tr>\n",
              "    <tr>\n",
              "      <th>15</th>\n",
              "      <td>Ukraine</td>\n",
              "    </tr>\n",
              "  </tbody>\n",
              "</table>\n",
              "</div>"
            ],
            "text/plain": [
              "              Team\n",
              "0          Croatia\n",
              "1   Czech Republic\n",
              "2          Denmark\n",
              "3          England\n",
              "4           France\n",
              "5          Germany\n",
              "7            Italy\n",
              "8      Netherlands\n",
              "10        Portugal\n",
              "12          Russia\n",
              "13           Spain\n",
              "14          Sweden\n",
              "15         Ukraine"
            ]
          },
          "metadata": {
            "tags": []
          },
          "execution_count": 5
        }
      ]
    },
    {
      "cell_type": "code",
      "metadata": {
        "id": "qOr1vsxHSkhF",
        "colab_type": "code",
        "outputId": "65892a9f-7654-4412-f737-402a6c71d2b1",
        "colab": {}
      },
      "source": [
        "Yellow=input('Yellow cards')\n",
        "Sets= Euro12['Yellow Cards'] == int(Yellow)\n",
        "\n",
        "d_frame[Sets]"
      ],
      "execution_count": 0,
      "outputs": [
        {
          "output_type": "stream",
          "text": [
            "Yellow cards9\n"
          ],
          "name": "stdout"
        },
        {
          "output_type": "execute_result",
          "data": {
            "text/html": [
              "<div>\n",
              "<style scoped>\n",
              "    .dataframe tbody tr th:only-of-type {\n",
              "        vertical-align: middle;\n",
              "    }\n",
              "\n",
              "    .dataframe tbody tr th {\n",
              "        vertical-align: top;\n",
              "    }\n",
              "\n",
              "    .dataframe thead th {\n",
              "        text-align: right;\n",
              "    }\n",
              "</style>\n",
              "<table border=\"1\" class=\"dataframe\">\n",
              "  <thead>\n",
              "    <tr style=\"text-align: right;\">\n",
              "      <th></th>\n",
              "      <th>Team</th>\n",
              "    </tr>\n",
              "  </thead>\n",
              "  <tbody>\n",
              "    <tr>\n",
              "      <th>0</th>\n",
              "      <td>Croatia</td>\n",
              "    </tr>\n",
              "    <tr>\n",
              "      <th>6</th>\n",
              "      <td>Greece</td>\n",
              "    </tr>\n",
              "  </tbody>\n",
              "</table>\n",
              "</div>"
            ],
            "text/plain": [
              "      Team\n",
              "0  Croatia\n",
              "6   Greece"
            ]
          },
          "metadata": {
            "tags": []
          },
          "execution_count": 71
        }
      ]
    },
    {
      "cell_type": "markdown",
      "metadata": {
        "id": "A5L2BXWESkhJ",
        "colab_type": "text"
      },
      "source": [
        "### Step 9. Calculate the mean Yellow Cards given per Team"
      ]
    },
    {
      "cell_type": "code",
      "metadata": {
        "id": "DVG24IXtSkhL",
        "colab_type": "code",
        "colab": {}
      },
      "source": [
        ""
      ],
      "execution_count": 0,
      "outputs": []
    },
    {
      "cell_type": "markdown",
      "metadata": {
        "id": "NVLSqZgxSkhW",
        "colab_type": "text"
      },
      "source": [
        "### Step 10. Filter teams that scored more than 6 goals"
      ]
    },
    {
      "cell_type": "code",
      "metadata": {
        "id": "sDGDhSLMSkhX",
        "colab_type": "code",
        "outputId": "4b002f38-cea2-4820-e172-187a62beaf49",
        "colab": {}
      },
      "source": [
        "Sets= Euro12['Goals'] > 6\n",
        "\n",
        "d_frame[Sets]"
      ],
      "execution_count": 0,
      "outputs": [
        {
          "output_type": "execute_result",
          "data": {
            "text/html": [
              "<div>\n",
              "<style scoped>\n",
              "    .dataframe tbody tr th:only-of-type {\n",
              "        vertical-align: middle;\n",
              "    }\n",
              "\n",
              "    .dataframe tbody tr th {\n",
              "        vertical-align: top;\n",
              "    }\n",
              "\n",
              "    .dataframe thead th {\n",
              "        text-align: right;\n",
              "    }\n",
              "</style>\n",
              "<table border=\"1\" class=\"dataframe\">\n",
              "  <thead>\n",
              "    <tr style=\"text-align: right;\">\n",
              "      <th></th>\n",
              "      <th>Team</th>\n",
              "    </tr>\n",
              "  </thead>\n",
              "  <tbody>\n",
              "    <tr>\n",
              "      <th>5</th>\n",
              "      <td>Germany</td>\n",
              "    </tr>\n",
              "    <tr>\n",
              "      <th>13</th>\n",
              "      <td>Spain</td>\n",
              "    </tr>\n",
              "  </tbody>\n",
              "</table>\n",
              "</div>"
            ],
            "text/plain": [
              "       Team\n",
              "5   Germany\n",
              "13    Spain"
            ]
          },
          "metadata": {
            "tags": []
          },
          "execution_count": 132
        }
      ]
    },
    {
      "cell_type": "markdown",
      "metadata": {
        "id": "TZU6Y8W2Skhb",
        "colab_type": "text"
      },
      "source": [
        "### Step 11. Select the teams that start with G"
      ]
    },
    {
      "cell_type": "code",
      "metadata": {
        "id": "4X5u5_e2Skhc",
        "colab_type": "code",
        "colab": {}
      },
      "source": [
        ""
      ],
      "execution_count": 0,
      "outputs": []
    },
    {
      "cell_type": "markdown",
      "metadata": {
        "id": "Tp_k9kHlSkhg",
        "colab_type": "text"
      },
      "source": [
        "### Step 12. Select the first 7 columns"
      ]
    },
    {
      "cell_type": "code",
      "metadata": {
        "id": "4OvZkdfhSkhi",
        "colab_type": "code",
        "outputId": "399f33f3-b095-4052-ed7d-02d52f53b376",
        "colab": {
          "base_uri": "https://localhost:8080/",
          "height": 163
        }
      },
      "source": [
        "Euro12.iloc[:,0:7]"
      ],
      "execution_count": 0,
      "outputs": [
        {
          "output_type": "error",
          "ename": "NameError",
          "evalue": "ignored",
          "traceback": [
            "\u001b[0;31m---------------------------------------------------------------------------\u001b[0m",
            "\u001b[0;31mNameError\u001b[0m                                 Traceback (most recent call last)",
            "\u001b[0;32m<ipython-input-4-79efdafd4e5a>\u001b[0m in \u001b[0;36m<module>\u001b[0;34m()\u001b[0m\n\u001b[0;32m----> 1\u001b[0;31m \u001b[0mEuro12\u001b[0m\u001b[0;34m.\u001b[0m\u001b[0miloc\u001b[0m\u001b[0;34m[\u001b[0m\u001b[0;34m:\u001b[0m\u001b[0;34m,\u001b[0m\u001b[0;36m0\u001b[0m\u001b[0;34m:\u001b[0m\u001b[0;36m7\u001b[0m\u001b[0;34m]\u001b[0m\u001b[0;34m\u001b[0m\u001b[0;34m\u001b[0m\u001b[0m\n\u001b[0m",
            "\u001b[0;31mNameError\u001b[0m: name 'Euro12' is not defined"
          ]
        }
      ]
    },
    {
      "cell_type": "markdown",
      "metadata": {
        "id": "eNZP08xVSkhm",
        "colab_type": "text"
      },
      "source": [
        "### Step 13. Select all columns except the last 3."
      ]
    },
    {
      "cell_type": "code",
      "metadata": {
        "id": "Oi4TTpDESkhn",
        "colab_type": "code",
        "outputId": "870bb013-fc90-4279-c577-d0b59fa9a438",
        "colab": {
          "base_uri": "https://localhost:8080/",
          "height": 163
        }
      },
      "source": [
        "Euro12.iloc[:].Head(12)"
      ],
      "execution_count": 0,
      "outputs": [
        {
          "output_type": "error",
          "ename": "NameError",
          "evalue": "ignored",
          "traceback": [
            "\u001b[0;31m---------------------------------------------------------------------------\u001b[0m",
            "\u001b[0;31mNameError\u001b[0m                                 Traceback (most recent call last)",
            "\u001b[0;32m<ipython-input-3-8c7d40d571c3>\u001b[0m in \u001b[0;36m<module>\u001b[0;34m()\u001b[0m\n\u001b[0;32m----> 1\u001b[0;31m \u001b[0mEuro12\u001b[0m\u001b[0;34m.\u001b[0m\u001b[0miloc\u001b[0m\u001b[0;34m[\u001b[0m\u001b[0;34m:\u001b[0m\u001b[0;34m]\u001b[0m\u001b[0;34m.\u001b[0m\u001b[0mHead\u001b[0m\u001b[0;34m(\u001b[0m\u001b[0;36m12\u001b[0m\u001b[0;34m)\u001b[0m\u001b[0;34m\u001b[0m\u001b[0;34m\u001b[0m\u001b[0m\n\u001b[0m",
            "\u001b[0;31mNameError\u001b[0m: name 'Euro12' is not defined"
          ]
        }
      ]
    },
    {
      "cell_type": "markdown",
      "metadata": {
        "id": "nw1jFazZSkhs",
        "colab_type": "text"
      },
      "source": [
        "### Step 14. Present only the Shooting Accuracy from England, Italy and Russia"
      ]
    },
    {
      "cell_type": "code",
      "metadata": {
        "id": "6W-GhmwKSkhu",
        "colab_type": "code",
        "outputId": "ca5e28af-f178-4680-8f25-5dadddcd4c88",
        "colab": {}
      },
      "source": [
        "\n",
        "Euro12.loc[[3,7,12],['Team','Shooting Accuracy']]\n"
      ],
      "execution_count": 0,
      "outputs": [
        {
          "output_type": "execute_result",
          "data": {
            "text/html": [
              "<div>\n",
              "<style scoped>\n",
              "    .dataframe tbody tr th:only-of-type {\n",
              "        vertical-align: middle;\n",
              "    }\n",
              "\n",
              "    .dataframe tbody tr th {\n",
              "        vertical-align: top;\n",
              "    }\n",
              "\n",
              "    .dataframe thead th {\n",
              "        text-align: right;\n",
              "    }\n",
              "</style>\n",
              "<table border=\"1\" class=\"dataframe\">\n",
              "  <thead>\n",
              "    <tr style=\"text-align: right;\">\n",
              "      <th></th>\n",
              "      <th>Team</th>\n",
              "      <th>Shooting Accuracy</th>\n",
              "    </tr>\n",
              "  </thead>\n",
              "  <tbody>\n",
              "    <tr>\n",
              "      <th>3</th>\n",
              "      <td>England</td>\n",
              "      <td>50.00%</td>\n",
              "    </tr>\n",
              "    <tr>\n",
              "      <th>7</th>\n",
              "      <td>Italy</td>\n",
              "      <td>43.00%</td>\n",
              "    </tr>\n",
              "    <tr>\n",
              "      <th>12</th>\n",
              "      <td>Russia</td>\n",
              "      <td>22.50%</td>\n",
              "    </tr>\n",
              "  </tbody>\n",
              "</table>\n",
              "</div>"
            ],
            "text/plain": [
              "       Team Shooting Accuracy\n",
              "3   England            50.00%\n",
              "7     Italy            43.00%\n",
              "12   Russia            22.50%"
            ]
          },
          "metadata": {
            "tags": []
          },
          "execution_count": 35
        }
      ]
    },
    {
      "cell_type": "markdown",
      "metadata": {
        "id": "NoXYvKTRSkhz",
        "colab_type": "text"
      },
      "source": [
        "### Step 15. Use apply method on Goal Column to make a new column called Performance, using following conditions\n",
        "\n",
        "1. If Goals are less than or equal to 2, peformance is **Below Avg**\n",
        "2. If Goals are more than 2 and less than or equal to 5, peformance is **Average**\n",
        "3. If Goals are more than 5 and less than or equal to 10, peformance is **Above Average**\n",
        "4. If Goals are more than 10 then peformance is **Excellent**"
      ]
    },
    {
      "cell_type": "code",
      "metadata": {
        "id": "QdGfRnfXSkh0",
        "colab_type": "code",
        "colab": {}
      },
      "source": [
        ""
      ],
      "execution_count": 0,
      "outputs": []
    },
    {
      "cell_type": "code",
      "metadata": {
        "id": "Z3l2abypSkh9",
        "colab_type": "code",
        "colab": {}
      },
      "source": [
        ""
      ],
      "execution_count": 0,
      "outputs": []
    },
    {
      "cell_type": "code",
      "metadata": {
        "id": "15K1t8foSkiG",
        "colab_type": "code",
        "colab": {}
      },
      "source": [
        ""
      ],
      "execution_count": 0,
      "outputs": []
    },
    {
      "cell_type": "code",
      "metadata": {
        "id": "cWn1mpEMSkiK",
        "colab_type": "code",
        "colab": {}
      },
      "source": [
        ""
      ],
      "execution_count": 0,
      "outputs": []
    }
  ]
}